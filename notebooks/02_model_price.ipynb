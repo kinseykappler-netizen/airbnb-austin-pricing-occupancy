{
 "cells": [
  {
   "cell_type": "markdown",
   "id": "dbeb1e67-f97a-4681-a3fa-571c68cfbe70",
   "metadata": {},
   "source": [
    "# Airbnb Austin — 02 · Modeling Nightly Price\n",
    "\n",
    "**Goal:** Predict nightly `price_clean` from engineered features and explain what drives price.\n",
    "**Inputs:** `data/PROCESSED/listings_features.csv` (from 01 EDA/Features)\n",
    "**Outputs:** trained model(s), metrics, plots, and saved artifacts in `models/` + `figures/`."
   ]
  },
  {
   "cell_type": "code",
   "execution_count": 2,
   "id": "a56b20a1-1273-4eae-a481-4b8626a55e79",
   "metadata": {},
   "outputs": [
    {
     "name": "stdout",
     "output_type": "stream",
     "text": [
      "Using: ..\\data\\PROCESSED\n"
     ]
    }
   ],
   "source": [
    "import pandas as pd\n",
    "import numpy as np\n",
    "import matplotlib.pyplot as plt\n",
    "from pathlib import Path\n",
    "\n",
    "# paths\n",
    "ROOT = Path(\"..\")\n",
    "PROC = ROOT / \"data\" / \"PROCESSED\"\n",
    "FIGS = ROOT / \"figures\"\n",
    "MODELS = ROOT / \"models\"\n",
    "\n",
    "for p in [FIGS, MODELS]: p.mkdir(parents=True, exist_ok=True)\n",
    "\n",
    "print(\"Using:\", PROC)"
   ]
  },
  {
   "cell_type": "code",
   "execution_count": 3,
   "id": "26803965-aca7-463c-9872-46fcf069605e",
   "metadata": {},
   "outputs": [
    {
     "name": "stdout",
     "output_type": "stream",
     "text": [
      "(5000, 85)\n"
     ]
    },
    {
     "data": {
      "text/html": [
       "<div>\n",
       "<style scoped>\n",
       "    .dataframe tbody tr th:only-of-type {\n",
       "        vertical-align: middle;\n",
       "    }\n",
       "\n",
       "    .dataframe tbody tr th {\n",
       "        vertical-align: top;\n",
       "    }\n",
       "\n",
       "    .dataframe thead th {\n",
       "        text-align: right;\n",
       "    }\n",
       "</style>\n",
       "<table border=\"1\" class=\"dataframe\">\n",
       "  <thead>\n",
       "    <tr style=\"text-align: right;\">\n",
       "      <th></th>\n",
       "      <th>id</th>\n",
       "      <th>listing_url</th>\n",
       "      <th>scrape_id</th>\n",
       "      <th>last_scraped</th>\n",
       "      <th>source</th>\n",
       "      <th>name</th>\n",
       "      <th>description</th>\n",
       "      <th>neighborhood_overview</th>\n",
       "      <th>picture_url</th>\n",
       "      <th>host_id</th>\n",
       "      <th>...</th>\n",
       "      <th>calculated_host_listings_count_entire_homes</th>\n",
       "      <th>calculated_host_listings_count_private_rooms</th>\n",
       "      <th>calculated_host_listings_count_shared_rooms</th>\n",
       "      <th>reviews_per_month</th>\n",
       "      <th>price_clean</th>\n",
       "      <th>amenities_count</th>\n",
       "      <th>is_superhost</th>\n",
       "      <th>review_scores_avg</th>\n",
       "      <th>beds_per_guest</th>\n",
       "      <th>price_per_guest</th>\n",
       "    </tr>\n",
       "  </thead>\n",
       "  <tbody>\n",
       "    <tr>\n",
       "      <th>0</th>\n",
       "      <td>1435793082787438351</td>\n",
       "      <td>https://www.airbnb.com/rooms/1435793082787438351</td>\n",
       "      <td>20250613040113</td>\n",
       "      <td>2025-06-13</td>\n",
       "      <td>city scrape</td>\n",
       "      <td>SoCo Dream Stay | Rooftop, Pool, Gym, Central Loc</td>\n",
       "      <td>Stay in a stylish SoCo apartment just 10 min f...</td>\n",
       "      <td>The apartment is in South Congress, one of the...</td>\n",
       "      <td>https://a0.muscache.com/pictures/hosting/Hosti...</td>\n",
       "      <td>423445570</td>\n",
       "      <td>...</td>\n",
       "      <td>8</td>\n",
       "      <td>0</td>\n",
       "      <td>0</td>\n",
       "      <td>2.0</td>\n",
       "      <td>130.0</td>\n",
       "      <td>81</td>\n",
       "      <td>1</td>\n",
       "      <td>5.0</td>\n",
       "      <td>0.5</td>\n",
       "      <td>21.666667</td>\n",
       "    </tr>\n",
       "    <tr>\n",
       "      <th>1</th>\n",
       "      <td>34792487</td>\n",
       "      <td>https://www.airbnb.com/rooms/34792487</td>\n",
       "      <td>20250613040113</td>\n",
       "      <td>2025-06-14</td>\n",
       "      <td>previous scrape</td>\n",
       "      <td>Cental Austin - airport, bus and scooters nearby</td>\n",
       "      <td>Quite cozy room with private shower and sink. ...</td>\n",
       "      <td>Radio Coffee and Beer is down the street, its ...</td>\n",
       "      <td>https://a0.muscache.com/pictures/147695fa-6003...</td>\n",
       "      <td>4710782</td>\n",
       "      <td>...</td>\n",
       "      <td>0</td>\n",
       "      <td>1</td>\n",
       "      <td>0</td>\n",
       "      <td>NaN</td>\n",
       "      <td>NaN</td>\n",
       "      <td>25</td>\n",
       "      <td>0</td>\n",
       "      <td>NaN</td>\n",
       "      <td>NaN</td>\n",
       "      <td>NaN</td>\n",
       "    </tr>\n",
       "    <tr>\n",
       "      <th>2</th>\n",
       "      <td>1116702837776875879</td>\n",
       "      <td>https://www.airbnb.com/rooms/1116702837776875879</td>\n",
       "      <td>20250613040113</td>\n",
       "      <td>2025-06-14</td>\n",
       "      <td>previous scrape</td>\n",
       "      <td>Wyndham Austin 2BR sleeps 6</td>\n",
       "      <td>This spacious two-bedroom resort suite measure...</td>\n",
       "      <td>NaN</td>\n",
       "      <td>https://a0.muscache.com/pictures/miso/Hosting-...</td>\n",
       "      <td>371942068</td>\n",
       "      <td>...</td>\n",
       "      <td>4</td>\n",
       "      <td>0</td>\n",
       "      <td>0</td>\n",
       "      <td>NaN</td>\n",
       "      <td>NaN</td>\n",
       "      <td>32</td>\n",
       "      <td>1</td>\n",
       "      <td>NaN</td>\n",
       "      <td>NaN</td>\n",
       "      <td>NaN</td>\n",
       "    </tr>\n",
       "  </tbody>\n",
       "</table>\n",
       "<p>3 rows × 85 columns</p>\n",
       "</div>"
      ],
      "text/plain": [
       "                    id                                       listing_url  \\\n",
       "0  1435793082787438351  https://www.airbnb.com/rooms/1435793082787438351   \n",
       "1             34792487             https://www.airbnb.com/rooms/34792487   \n",
       "2  1116702837776875879  https://www.airbnb.com/rooms/1116702837776875879   \n",
       "\n",
       "        scrape_id last_scraped           source  \\\n",
       "0  20250613040113   2025-06-13      city scrape   \n",
       "1  20250613040113   2025-06-14  previous scrape   \n",
       "2  20250613040113   2025-06-14  previous scrape   \n",
       "\n",
       "                                                name  \\\n",
       "0  SoCo Dream Stay | Rooftop, Pool, Gym, Central Loc   \n",
       "1   Cental Austin - airport, bus and scooters nearby   \n",
       "2                        Wyndham Austin 2BR sleeps 6   \n",
       "\n",
       "                                         description  \\\n",
       "0  Stay in a stylish SoCo apartment just 10 min f...   \n",
       "1  Quite cozy room with private shower and sink. ...   \n",
       "2  This spacious two-bedroom resort suite measure...   \n",
       "\n",
       "                               neighborhood_overview  \\\n",
       "0  The apartment is in South Congress, one of the...   \n",
       "1  Radio Coffee and Beer is down the street, its ...   \n",
       "2                                                NaN   \n",
       "\n",
       "                                         picture_url    host_id  ...  \\\n",
       "0  https://a0.muscache.com/pictures/hosting/Hosti...  423445570  ...   \n",
       "1  https://a0.muscache.com/pictures/147695fa-6003...    4710782  ...   \n",
       "2  https://a0.muscache.com/pictures/miso/Hosting-...  371942068  ...   \n",
       "\n",
       "  calculated_host_listings_count_entire_homes  \\\n",
       "0                                           8   \n",
       "1                                           0   \n",
       "2                                           4   \n",
       "\n",
       "  calculated_host_listings_count_private_rooms  \\\n",
       "0                                            0   \n",
       "1                                            1   \n",
       "2                                            0   \n",
       "\n",
       "  calculated_host_listings_count_shared_rooms reviews_per_month price_clean  \\\n",
       "0                                           0               2.0       130.0   \n",
       "1                                           0               NaN         NaN   \n",
       "2                                           0               NaN         NaN   \n",
       "\n",
       "  amenities_count is_superhost review_scores_avg beds_per_guest  \\\n",
       "0              81            1               5.0            0.5   \n",
       "1              25            0               NaN            NaN   \n",
       "2              32            1               NaN            NaN   \n",
       "\n",
       "  price_per_guest  \n",
       "0       21.666667  \n",
       "1             NaN  \n",
       "2             NaN  \n",
       "\n",
       "[3 rows x 85 columns]"
      ]
     },
     "execution_count": 3,
     "metadata": {},
     "output_type": "execute_result"
    }
   ],
   "source": [
    "df = pd.read_csv(PROC / \"listings_features.csv\")\n",
    "print(df.shape)\n",
    "df.head(3)"
   ]
  },
  {
   "cell_type": "code",
   "execution_count": 4,
   "id": "725edfaf-12f8-4526-bb84-ddb5dc903f60",
   "metadata": {},
   "outputs": [
    {
     "name": "stdout",
     "output_type": "stream",
     "text": [
      "Modeling rows: 3040\n"
     ]
    },
    {
     "data": {
      "text/html": [
       "<div>\n",
       "<style scoped>\n",
       "    .dataframe tbody tr th:only-of-type {\n",
       "        vertical-align: middle;\n",
       "    }\n",
       "\n",
       "    .dataframe tbody tr th {\n",
       "        vertical-align: top;\n",
       "    }\n",
       "\n",
       "    .dataframe thead th {\n",
       "        text-align: right;\n",
       "    }\n",
       "</style>\n",
       "<table border=\"1\" class=\"dataframe\">\n",
       "  <thead>\n",
       "    <tr style=\"text-align: right;\">\n",
       "      <th></th>\n",
       "      <th>amenities_count</th>\n",
       "      <th>is_superhost</th>\n",
       "      <th>review_scores_avg</th>\n",
       "      <th>beds_per_guest</th>\n",
       "      <th>price_per_guest</th>\n",
       "    </tr>\n",
       "  </thead>\n",
       "  <tbody>\n",
       "    <tr>\n",
       "      <th>0</th>\n",
       "      <td>81</td>\n",
       "      <td>1</td>\n",
       "      <td>5.000000</td>\n",
       "      <td>0.500</td>\n",
       "      <td>21.666667</td>\n",
       "    </tr>\n",
       "    <tr>\n",
       "      <th>4</th>\n",
       "      <td>74</td>\n",
       "      <td>1</td>\n",
       "      <td>4.872857</td>\n",
       "      <td>0.500</td>\n",
       "      <td>90.000000</td>\n",
       "    </tr>\n",
       "    <tr>\n",
       "      <th>7</th>\n",
       "      <td>71</td>\n",
       "      <td>1</td>\n",
       "      <td>4.908571</td>\n",
       "      <td>0.375</td>\n",
       "      <td>21.625000</td>\n",
       "    </tr>\n",
       "  </tbody>\n",
       "</table>\n",
       "</div>"
      ],
      "text/plain": [
       "   amenities_count  is_superhost  review_scores_avg  beds_per_guest  \\\n",
       "0               81             1           5.000000           0.500   \n",
       "4               74             1           4.872857           0.500   \n",
       "7               71             1           4.908571           0.375   \n",
       "\n",
       "   price_per_guest  \n",
       "0        21.666667  \n",
       "4        90.000000  \n",
       "7        21.625000  "
      ]
     },
     "execution_count": 4,
     "metadata": {},
     "output_type": "execute_result"
    }
   ],
   "source": [
    "target = \"price_clean\"\n",
    "\n",
    "# start SIMPLE; we can add more features later\n",
    "features = [\n",
    "    \"amenities_count\",\n",
    "    \"is_superhost\",\n",
    "    \"review_scores_avg\",\n",
    "    \"beds_per_guest\",\n",
    "    \"price_per_guest\"\n",
    "]\n",
    "\n",
    "# keep only rows with all needed values\n",
    "df_model = df.dropna(subset=[target] + features).copy()\n",
    "X = df_model[features]\n",
    "y = df_model[target]\n",
    "\n",
    "print(\"Modeling rows:\", X.shape[0])\n",
    "X.head(3)"
   ]
  },
  {
   "cell_type": "code",
   "execution_count": 5,
   "id": "4655726a-e782-4fb1-8c7c-35a16a63483d",
   "metadata": {},
   "outputs": [
    {
     "data": {
      "text/plain": [
       "((2432, 5), (608, 5))"
      ]
     },
     "execution_count": 5,
     "metadata": {},
     "output_type": "execute_result"
    }
   ],
   "source": [
    "from sklearn.model_selection import train_test_split\n",
    "\n",
    "X_train, X_test, y_train, y_test = train_test_split(\n",
    "    X, y, test_size=0.20, random_state=42\n",
    ")\n",
    "\n",
    "X_train.shape, X_test.shape"
   ]
  },
  {
   "cell_type": "code",
   "execution_count": 6,
   "id": "1981a457-9bcc-4547-bac1-c4643ab56d9a",
   "metadata": {},
   "outputs": [
    {
     "name": "stdout",
     "output_type": "stream",
     "text": [
      "Linear Regression — MAE: $120.16 | R²: 0.271\n",
      "Coefficients:\n",
      "   amenities_count  →   3.22\n",
      "      is_superhost  →   0.29\n",
      " review_scores_avg  →   11.15\n",
      "    beds_per_guest  →   25.07\n",
      "   price_per_guest  →   2.01\n"
     ]
    }
   ],
   "source": [
    "from sklearn.linear_model import LinearRegression\n",
    "from sklearn.metrics import mean_absolute_error, r2_score\n",
    "\n",
    "lin = LinearRegression()\n",
    "lin.fit(X_train, y_train)\n",
    "pred_lin = lin.predict(X_test)\n",
    "\n",
    "mae_lin = mean_absolute_error(y_test, pred_lin)\n",
    "r2_lin  = r2_score(y_test, pred_lin)\n",
    "\n",
    "print(f\"Linear Regression — MAE: ${mae_lin:,.2f} | R²: {r2_lin:.3f}\")\n",
    "print(\"Coefficients:\")\n",
    "for f, c in zip(features, lin.coef_):\n",
    "    print(f\"{f:>18s}  →  {c: .2f}\")"
   ]
  },
  {
   "cell_type": "code",
   "execution_count": 7,
   "id": "88df750b-73a3-4039-a143-0b4b4bd15a59",
   "metadata": {},
   "outputs": [
    {
     "name": "stdout",
     "output_type": "stream",
     "text": [
      "Random Forest — MAE: $87.29 | R²: 0.706\n"
     ]
    }
   ],
   "source": [
    "from sklearn.ensemble import RandomForestRegressor\n",
    "\n",
    "rf = RandomForestRegressor(\n",
    "    n_estimators=300,\n",
    "    random_state=42,\n",
    "    n_jobs=-1\n",
    ")\n",
    "rf.fit(X_train, y_train)\n",
    "pred_rf = rf.predict(X_test)\n",
    "\n",
    "mae_rf = mean_absolute_error(y_test, pred_rf)\n",
    "r2_rf  = r2_score(y_test, pred_rf)\n",
    "\n",
    "print(f\"Random Forest — MAE: ${mae_rf:,.2f} | R²: {r2_rf:.3f}\")"
   ]
  },
  {
   "cell_type": "code",
   "execution_count": 8,
   "id": "9b6d5881-b0df-4e58-916e-fcf7802651c8",
   "metadata": {},
   "outputs": [
    {
     "data": {
      "image/png": "[encoded data removed]",
      "text/plain": [
       "<Figure size 640x480 with 1 Axes>"
      ]
     },
     "metadata": {},
     "output_type": "display_data"
    },
    {
     "data": {
      "image/png": "[encoded data removed]",
      "text/plain": [
       "<Figure size 640x480 with 1 Axes>"
      ]
     },
     "metadata": {},
     "output_type": "display_data"
    }
   ],
   "source": [
    "labels = [\"Linear\", \"RandomForest\"]\n",
    "maes   = [mae_lin, mae_rf]\n",
    "r2s    = [r2_lin, r2_rf]\n",
    "\n",
    "plt.figure()\n",
    "plt.bar(labels, maes)\n",
    "plt.title(\"MAE (lower is better)\")\n",
    "plt.ylabel(\"USD\")\n",
    "plt.tight_layout(); plt.savefig(FIGS / \"model_mae_compare.png\"); plt.show()\n",
    "\n",
    "plt.figure()\n",
    "plt.bar(labels, r2s)\n",
    "plt.title(\"R² (higher is better)\")\n",
    "plt.ylabel(\"R²\")\n",
    "plt.ylim(0, 1)\n",
    "plt.tight_layout(); plt.savefig(FIGS / \"model_r2_compare.png\"); plt.show()"
   ]
  },
  {
   "cell_type": "code",
   "execution_count": 9,
   "id": "c5f198ac-bdfb-40cc-bcab-68f034e3582a",
   "metadata": {},
   "outputs": [
    {
     "data": {
      "image/png": "[encoded data removed]",
      "text/plain": [
       "<Figure size 640x480 with 1 Axes>"
      ]
     },
     "metadata": {},
     "output_type": "display_data"
    },
    {
     "data": {
      "text/plain": [
       "[('price_per_guest', np.float64(0.9342882070462474)),\n",
       " ('amenities_count', np.float64(0.02500839867382074)),\n",
       " ('beds_per_guest', np.float64(0.02213237770348059)),\n",
       " ('review_scores_avg', np.float64(0.013292805051420168)),\n",
       " ('is_superhost', np.float64(0.005278211525031195))]"
      ]
     },
     "execution_count": 9,
     "metadata": {},
     "output_type": "execute_result"
    }
   ],
   "source": [
    "importances = rf.feature_importances_\n",
    "order = np.argsort(importances)[::-1]\n",
    "\n",
    "plt.figure()\n",
    "plt.bar(range(len(order)), importances[order])\n",
    "plt.xticks(range(len(order)), [features[i] for i in order], rotation=45, ha=\"right\")\n",
    "plt.title(\"Feature Importances — Random Forest\")\n",
    "plt.tight_layout(); plt.savefig(FIGS / \"rf_feature_importances.png\"); plt.show()\n",
    "\n",
    "list(zip([features[i] for i in order], importances[order]))"
   ]
  },
  {
   "cell_type": "code",
   "execution_count": 10,
   "id": "b8b80286-a706-44d9-a757-f43c9610d6a5",
   "metadata": {},
   "outputs": [
    {
     "data": {
      "image/png": "[encoded data removed]",
      "text/plain": [
       "<Figure size 640x480 with 1 Axes>"
      ]
     },
     "metadata": {},
     "output_type": "display_data"
    },
    {
     "data": {
      "text/plain": [
       "(count     608.000000\n",
       " mean      215.197343\n",
       " std       239.728999\n",
       " min        16.823333\n",
       " 25%       111.290000\n",
       " 50%       147.118333\n",
       " 75%       220.790833\n",
       " max      2709.200000\n",
       " Name: pred, dtype: float64,\n",
       " count     608.000000\n",
       " mean      207.383224\n",
       " std       310.726671\n",
       " min        12.000000\n",
       " 25%        90.000000\n",
       " 50%       137.500000\n",
       " 75%       212.250000\n",
       " max      4426.000000\n",
       " Name: price_clean, dtype: float64)"
      ]
     },
     "execution_count": 10,
     "metadata": {},
     "output_type": "execute_result"
    }
   ],
   "source": [
    "resid = y_test - pred_rf\n",
    "plt.figure()\n",
    "plt.hist(resid.clip(-200, 200), bins=40)  # clip tails for readability\n",
    "plt.title(\"Residuals (y_test - prediction) — Random Forest\")\n",
    "plt.xlabel(\"USD\"); plt.ylabel(\"Count\")\n",
    "plt.tight_layout(); plt.savefig(FIGS / \"rf_residuals.png\"); plt.show()\n",
    "\n",
    "pd.Series(pred_rf, name=\"pred\").describe(), y_test.describe()\n"
   ]
  },
  {
   "cell_type": "code",
   "execution_count": 11,
   "id": "46f3b810-8b62-4809-99cf-5f147539c042",
   "metadata": {},
   "outputs": [
    {
     "name": "stdout",
     "output_type": "stream",
     "text": [
      "Saved model → ..\\models\\rf_price_model.pkl\n",
      "Saved predictions → ..\\data\\PROCESSED\\test_predictions.csv\n"
     ]
    }
   ],
   "source": [
    "import joblib\n",
    "\n",
    "joblib.dump(rf, MODELS / \"rf_price_model.pkl\")\n",
    "out = pd.DataFrame({\n",
    "    \"y_true\": y_test.values,\n",
    "    \"y_pred_rf\": pred_rf,\n",
    "    \"y_pred_lin\": pred_lin\n",
    "})\n",
    "out.to_csv(PROC / \"test_predictions.csv\", index=False)\n",
    "\n",
    "print(\"Saved model →\", MODELS / \"rf_price_model.pkl\")\n",
    "print(\"Saved predictions →\", PROC / \"test_predictions.csv\")"
   ]
  },
  {
   "cell_type": "code",
   "execution_count": 12,
   "id": "4aed7638-8bbb-43bf-8e42-316ded65e4cd",
   "metadata": {},
   "outputs": [
    {
     "data": {
      "text/plain": [
       "{'rows_used': 3040,\n",
       " 'features': ['amenities_count',\n",
       "  'is_superhost',\n",
       "  'review_scores_avg',\n",
       "  'beds_per_guest',\n",
       "  'price_per_guest'],\n",
       " 'metrics': {'linear': {'MAE': 120.15961276384023, 'R2': 0.27054461418234},\n",
       "  'random_forest': {'MAE': 87.28733214546783, 'R2': 0.7056570467636791}},\n",
       " 'rf_importances_desc': [{'feature': 'price_per_guest',\n",
       "   'importance': 0.9342882070462474},\n",
       "  {'feature': 'amenities_count', 'importance': 0.02500839867382074},\n",
       "  {'feature': 'beds_per_guest', 'importance': 0.02213237770348059},\n",
       "  {'feature': 'review_scores_avg', 'importance': 0.013292805051420168},\n",
       "  {'feature': 'is_superhost', 'importance': 0.005278211525031195}]}"
      ]
     },
     "execution_count": 12,
     "metadata": {},
     "output_type": "execute_result"
    }
   ],
   "source": [
    "summary_facts = {\n",
    "    \"rows_used\": int(X.shape[0]),\n",
    "    \"features\": features,\n",
    "    \"metrics\": {\n",
    "        \"linear\": {\"MAE\": float(mae_lin), \"R2\": float(r2_lin)},\n",
    "        \"random_forest\": {\"MAE\": float(mae_rf), \"R2\": float(r2_rf)}\n",
    "    },\n",
    "    \"rf_importances_desc\": [\n",
    "        {\"feature\": features[i], \"importance\": float(importances[i])}\n",
    "        for i in order\n",
    "    ][:10]\n",
    "}\n",
    "summary_facts"
   ]
  },
  {
   "cell_type": "code",
   "execution_count": 13,
   "id": "e0e7c1ae-62df-4f44-b458-d1ad81205dd0",
   "metadata": {},
   "outputs": [
    {
     "name": "stdout",
     "output_type": "stream",
     "text": [
      "Rows for modeling: 3040\n"
     ]
    },
    {
     "data": {
      "text/html": [
       "<div>\n",
       "<style scoped>\n",
       "    .dataframe tbody tr th:only-of-type {\n",
       "        vertical-align: middle;\n",
       "    }\n",
       "\n",
       "    .dataframe tbody tr th {\n",
       "        vertical-align: top;\n",
       "    }\n",
       "\n",
       "    .dataframe thead th {\n",
       "        text-align: right;\n",
       "    }\n",
       "</style>\n",
       "<table border=\"1\" class=\"dataframe\">\n",
       "  <thead>\n",
       "    <tr style=\"text-align: right;\">\n",
       "      <th></th>\n",
       "      <th>amenities_count</th>\n",
       "      <th>is_superhost</th>\n",
       "      <th>review_scores_avg</th>\n",
       "      <th>beds_per_guest</th>\n",
       "      <th>price_per_guest</th>\n",
       "    </tr>\n",
       "  </thead>\n",
       "  <tbody>\n",
       "    <tr>\n",
       "      <th>0</th>\n",
       "      <td>81</td>\n",
       "      <td>1</td>\n",
       "      <td>5.000000</td>\n",
       "      <td>0.500</td>\n",
       "      <td>21.666667</td>\n",
       "    </tr>\n",
       "    <tr>\n",
       "      <th>4</th>\n",
       "      <td>74</td>\n",
       "      <td>1</td>\n",
       "      <td>4.872857</td>\n",
       "      <td>0.500</td>\n",
       "      <td>90.000000</td>\n",
       "    </tr>\n",
       "    <tr>\n",
       "      <th>7</th>\n",
       "      <td>71</td>\n",
       "      <td>1</td>\n",
       "      <td>4.908571</td>\n",
       "      <td>0.375</td>\n",
       "      <td>21.625000</td>\n",
       "    </tr>\n",
       "  </tbody>\n",
       "</table>\n",
       "</div>"
      ],
      "text/plain": [
       "   amenities_count  is_superhost  review_scores_avg  beds_per_guest  \\\n",
       "0               81             1           5.000000           0.500   \n",
       "4               74             1           4.872857           0.500   \n",
       "7               71             1           4.908571           0.375   \n",
       "\n",
       "   price_per_guest  \n",
       "0        21.666667  \n",
       "4        90.000000  \n",
       "7        21.625000  "
      ]
     },
     "execution_count": 13,
     "metadata": {},
     "output_type": "execute_result"
    }
   ],
   "source": [
    "target = \"price_clean\"\n",
    "features = [\"amenities_count\",\"is_superhost\",\"review_scores_avg\",\n",
    "            \"beds_per_guest\",\"price_per_guest\"]\n",
    "\n",
    "df_model = df.dropna(subset=[target] + features).copy()\n",
    "X = df_model[features]\n",
    "y = df_model[target]\n",
    "\n",
    "print(\"Rows for modeling:\", len(df_model))\n",
    "X.head(3)"
   ]
  },
  {
   "cell_type": "code",
   "execution_count": 14,
   "id": "bb6e2931-6c60-45e0-abff-64e9052812e7",
   "metadata": {},
   "outputs": [
    {
     "name": "stdout",
     "output_type": "stream",
     "text": [
      "Rows for modeling: (3040, 5)\n",
      "\n",
      "Linear Regression → MAE: $120.16 | R²: 0.271\n",
      "   amenities_count :  3.22\n",
      "      is_superhost :  0.29\n",
      " review_scores_avg :  11.15\n",
      "    beds_per_guest :  25.07\n",
      "   price_per_guest :  2.01\n",
      "\n",
      "Random Forest → MAE: $87.29 | R²: 0.706\n"
     ]
    },
    {
     "data": {
      "image/png": "[encoded data removed]",
      "text/plain": [
       "<Figure size 640x480 with 1 Axes>"
      ]
     },
     "metadata": {},
     "output_type": "display_data"
    },
    {
     "data": {
      "image/png": "[encoded data removed]",
      "text/plain": [
       "<Figure size 640x480 with 1 Axes>"
      ]
     },
     "metadata": {},
     "output_type": "display_data"
    },
    {
     "data": {
      "image/png": "[encoded data removed]",
      "text/plain": [
       "<Figure size 640x480 with 1 Axes>"
      ]
     },
     "metadata": {},
     "output_type": "display_data"
    },
    {
     "name": "stdout",
     "output_type": "stream",
     "text": [
      "\n",
      "Feature importances:\n",
      "   price_per_guest : 0.934\n",
      "   amenities_count : 0.025\n",
      "    beds_per_guest : 0.022\n",
      " review_scores_avg : 0.013\n",
      "      is_superhost : 0.005\n",
      "\n",
      "💾 Saved model → ..\\models\\rf_price_model.pkl\n",
      "💾 Saved predictions → ..\\data\\PROCESSED\\test_predictions.csv\n"
     ]
    }
   ],
   "source": [
    "# ==== Day 4: Modeling nightly price in one go ====\n",
    "import pandas as pd, numpy as np, matplotlib.pyplot as plt\n",
    "from pathlib import Path\n",
    "from sklearn.model_selection import train_test_split\n",
    "from sklearn.linear_model import LinearRegression\n",
    "from sklearn.ensemble import RandomForestRegressor\n",
    "from sklearn.metrics import mean_absolute_error, r2_score\n",
    "import joblib\n",
    "\n",
    "# paths\n",
    "ROOT = Path(\"..\")\n",
    "PROC = ROOT / \"data\" / \"PROCESSED\"\n",
    "FIGS = ROOT / \"figures\"\n",
    "MODELS = ROOT / \"models\"\n",
    "for p in [FIGS, MODELS]: p.mkdir(exist_ok=True)\n",
    "\n",
    "# 1. Load processed data\n",
    "df = pd.read_csv(PROC / \"listings_features.csv\")\n",
    "\n",
    "# 2. Target & features\n",
    "target = \"price_clean\"\n",
    "features = [\"amenities_count\",\"is_superhost\",\"review_scores_avg\",\n",
    "            \"beds_per_guest\",\"price_per_guest\"]\n",
    "\n",
    "df_model = df.dropna(subset=[target] + features).copy()\n",
    "X = df_model[features]\n",
    "y = df_model[target]\n",
    "print(\"Rows for modeling:\", X.shape)\n",
    "\n",
    "# 3. Train/test split\n",
    "X_train, X_test, y_train, y_test = train_test_split(X, y, test_size=0.20, random_state=42)\n",
    "\n",
    "# 4. Linear Regression\n",
    "lin = LinearRegression()\n",
    "lin.fit(X_train, y_train)\n",
    "pred_lin = lin.predict(X_test)\n",
    "mae_lin = mean_absolute_error(y_test, pred_lin)\n",
    "r2_lin = r2_score(y_test, pred_lin)\n",
    "\n",
    "print(f\"\\nLinear Regression → MAE: ${mae_lin:,.2f} | R²: {r2_lin:.3f}\")\n",
    "for f, c in zip(features, lin.coef_):\n",
    "    print(f\"{f:>18s} : {c: .2f}\")\n",
    "\n",
    "# 5. Random Forest\n",
    "rf = RandomForestRegressor(n_estimators=300, random_state=42, n_jobs=-1)\n",
    "rf.fit(X_train, y_train)\n",
    "pred_rf = rf.predict(X_test)\n",
    "mae_rf = mean_absolute_error(y_test, pred_rf)\n",
    "r2_rf = r2_score(y_test, pred_rf)\n",
    "\n",
    "print(f\"\\nRandom Forest → MAE: ${mae_rf:,.2f} | R²: {r2_rf:.3f}\")\n",
    "\n",
    "# 6. Compare metrics (bar plots)\n",
    "labels, maes, r2s = [\"Linear\",\"RandomForest\"], [mae_lin,mae_rf], [r2_lin,r2_rf]\n",
    "\n",
    "plt.figure()\n",
    "plt.bar(labels, maes); plt.title(\"MAE (lower is better)\")\n",
    "plt.ylabel(\"USD\"); plt.tight_layout()\n",
    "plt.savefig(FIGS / \"model_mae_compare.png\"); plt.show()\n",
    "\n",
    "plt.figure()\n",
    "plt.bar(labels, r2s); plt.title(\"R² (higher is better)\")\n",
    "plt.ylabel(\"R²\"); plt.ylim(0,1); plt.tight_layout()\n",
    "plt.savefig(FIGS / \"model_r2_compare.png\"); plt.show()\n",
    "\n",
    "# 7. Feature importances (RF)\n",
    "importances = rf.feature_importances_\n",
    "order = np.argsort(importances)[::-1]\n",
    "\n",
    "plt.figure()\n",
    "plt.bar(range(len(order)), importances[order])\n",
    "plt.xticks(range(len(order)), [features[i] for i in order], rotation=45, ha=\"right\")\n",
    "plt.title(\"Feature Importances — Random Forest\")\n",
    "plt.tight_layout()\n",
    "plt.savefig(FIGS / \"rf_feature_importances.png\"); plt.show()\n",
    "\n",
    "print(\"\\nFeature importances:\")\n",
    "for i in order:\n",
    "    print(f\"{features[i]:>18s} : {importances[i]:.3f}\")\n",
    "\n",
    "# 8. Save model + predictions\n",
    "joblib.dump(rf, MODELS / \"rf_price_model.pkl\")\n",
    "preds = pd.DataFrame({\"y_true\": y_test, \"y_pred_lin\": pred_lin, \"y_pred_rf\": pred_rf})\n",
    "preds.to_csv(PROC / \"test_predictions.csv\", index=False)\n",
    "\n",
    "print(\"\\n💾 Saved model →\", MODELS / \"rf_price_model.pkl\")\n",
    "print(\"💾 Saved predictions →\", PROC / \"test_predictions.csv\")"
   ]
  },
  {
   "cell_type": "code",
   "execution_count": null,
   "id": "ee4005e4-c11e-463f-ae81-9a854a6c3f9f",
   "metadata": {},
   "outputs": [],
   "source": []
  }
 ],
 "metadata": {
  "kernelspec": {
   "display_name": "Python 3 (ipykernel)",
   "language": "python",
   "name": "python3"
  },
  "language_info": {
   "codemirror_mode": {
    "name": "ipython",
    "version": 3
   },
   "file_extension": ".py",
   "mimetype": "text/x-python",
   "name": "python",
   "nbconvert_exporter": "python",
   "pygments_lexer": "ipython3",
   "version": "3.13.7"
  }
 },
 "nbformat": 4,
 "nbformat_minor": 5
}
