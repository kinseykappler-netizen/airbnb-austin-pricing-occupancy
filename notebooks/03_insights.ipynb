{
 "cells": [
  {
   "cell_type": "code",
   "execution_count": 1,
   "id": "3777f8a7-3d23-4f40-8cc8-bb643f3de41f",
   "metadata": {},
   "outputs": [
    {
     "name": "stdout",
     "output_type": "stream",
     "text": [
      "Using: ..\\data\\RAW ..\\data\\PROCESSED ..\\figures\n"
     ]
    }
   ],
   "source": [
    "import pandas as pd\n",
    "import matplotlib.pyplot as plt\n",
    "from pathlib import Path\n",
    "\n",
    "# paths\n",
    "ROOT = Path(\"..\")\n",
    "RAW = ROOT / \"data\" / \"RAW\"\n",
    "PROC = ROOT / \"data\" / \"PROCESSED\"\n",
    "FIGS = ROOT / \"figures\"\n",
    "\n",
    "print(\"Using:\", RAW, PROC, FIGS)"
   ]
  },
  {
   "cell_type": "code",
   "execution_count": 2,
   "id": "f15db686-c924-4558-957c-d0f1e2e96c78",
   "metadata": {},
   "outputs": [
    {
     "name": "stdout",
     "output_type": "stream",
     "text": [
      "(5000, 85)\n"
     ]
    },
    {
     "data": {
      "text/html": [
       "<div>\n",
       "<style scoped>\n",
       "    .dataframe tbody tr th:only-of-type {\n",
       "        vertical-align: middle;\n",
       "    }\n",
       "\n",
       "    .dataframe tbody tr th {\n",
       "        vertical-align: top;\n",
       "    }\n",
       "\n",
       "    .dataframe thead th {\n",
       "        text-align: right;\n",
       "    }\n",
       "</style>\n",
       "<table border=\"1\" class=\"dataframe\">\n",
       "  <thead>\n",
       "    <tr style=\"text-align: right;\">\n",
       "      <th></th>\n",
       "      <th>id</th>\n",
       "      <th>listing_url</th>\n",
       "      <th>scrape_id</th>\n",
       "      <th>last_scraped</th>\n",
       "      <th>source</th>\n",
       "      <th>name</th>\n",
       "      <th>description</th>\n",
       "      <th>neighborhood_overview</th>\n",
       "      <th>picture_url</th>\n",
       "      <th>host_id</th>\n",
       "      <th>...</th>\n",
       "      <th>calculated_host_listings_count_entire_homes</th>\n",
       "      <th>calculated_host_listings_count_private_rooms</th>\n",
       "      <th>calculated_host_listings_count_shared_rooms</th>\n",
       "      <th>reviews_per_month</th>\n",
       "      <th>price_clean</th>\n",
       "      <th>amenities_count</th>\n",
       "      <th>is_superhost</th>\n",
       "      <th>review_scores_avg</th>\n",
       "      <th>beds_per_guest</th>\n",
       "      <th>price_per_guest</th>\n",
       "    </tr>\n",
       "  </thead>\n",
       "  <tbody>\n",
       "    <tr>\n",
       "      <th>0</th>\n",
       "      <td>1435793082787438351</td>\n",
       "      <td>https://www.airbnb.com/rooms/1435793082787438351</td>\n",
       "      <td>20250613040113</td>\n",
       "      <td>2025-06-13</td>\n",
       "      <td>city scrape</td>\n",
       "      <td>SoCo Dream Stay | Rooftop, Pool, Gym, Central Loc</td>\n",
       "      <td>Stay in a stylish SoCo apartment just 10 min f...</td>\n",
       "      <td>The apartment is in South Congress, one of the...</td>\n",
       "      <td>https://a0.muscache.com/pictures/hosting/Hosti...</td>\n",
       "      <td>423445570</td>\n",
       "      <td>...</td>\n",
       "      <td>8</td>\n",
       "      <td>0</td>\n",
       "      <td>0</td>\n",
       "      <td>2.0</td>\n",
       "      <td>130.0</td>\n",
       "      <td>81</td>\n",
       "      <td>1</td>\n",
       "      <td>5.0</td>\n",
       "      <td>0.5</td>\n",
       "      <td>21.666667</td>\n",
       "    </tr>\n",
       "    <tr>\n",
       "      <th>1</th>\n",
       "      <td>34792487</td>\n",
       "      <td>https://www.airbnb.com/rooms/34792487</td>\n",
       "      <td>20250613040113</td>\n",
       "      <td>2025-06-14</td>\n",
       "      <td>previous scrape</td>\n",
       "      <td>Cental Austin - airport, bus and scooters nearby</td>\n",
       "      <td>Quite cozy room with private shower and sink. ...</td>\n",
       "      <td>Radio Coffee and Beer is down the street, its ...</td>\n",
       "      <td>https://a0.muscache.com/pictures/147695fa-6003...</td>\n",
       "      <td>4710782</td>\n",
       "      <td>...</td>\n",
       "      <td>0</td>\n",
       "      <td>1</td>\n",
       "      <td>0</td>\n",
       "      <td>NaN</td>\n",
       "      <td>NaN</td>\n",
       "      <td>25</td>\n",
       "      <td>0</td>\n",
       "      <td>NaN</td>\n",
       "      <td>NaN</td>\n",
       "      <td>NaN</td>\n",
       "    </tr>\n",
       "    <tr>\n",
       "      <th>2</th>\n",
       "      <td>1116702837776875879</td>\n",
       "      <td>https://www.airbnb.com/rooms/1116702837776875879</td>\n",
       "      <td>20250613040113</td>\n",
       "      <td>2025-06-14</td>\n",
       "      <td>previous scrape</td>\n",
       "      <td>Wyndham Austin 2BR sleeps 6</td>\n",
       "      <td>This spacious two-bedroom resort suite measure...</td>\n",
       "      <td>NaN</td>\n",
       "      <td>https://a0.muscache.com/pictures/miso/Hosting-...</td>\n",
       "      <td>371942068</td>\n",
       "      <td>...</td>\n",
       "      <td>4</td>\n",
       "      <td>0</td>\n",
       "      <td>0</td>\n",
       "      <td>NaN</td>\n",
       "      <td>NaN</td>\n",
       "      <td>32</td>\n",
       "      <td>1</td>\n",
       "      <td>NaN</td>\n",
       "      <td>NaN</td>\n",
       "      <td>NaN</td>\n",
       "    </tr>\n",
       "  </tbody>\n",
       "</table>\n",
       "<p>3 rows × 85 columns</p>\n",
       "</div>"
      ],
      "text/plain": [
       "                    id                                       listing_url  \\\n",
       "0  1435793082787438351  https://www.airbnb.com/rooms/1435793082787438351   \n",
       "1             34792487             https://www.airbnb.com/rooms/34792487   \n",
       "2  1116702837776875879  https://www.airbnb.com/rooms/1116702837776875879   \n",
       "\n",
       "        scrape_id last_scraped           source  \\\n",
       "0  20250613040113   2025-06-13      city scrape   \n",
       "1  20250613040113   2025-06-14  previous scrape   \n",
       "2  20250613040113   2025-06-14  previous scrape   \n",
       "\n",
       "                                                name  \\\n",
       "0  SoCo Dream Stay | Rooftop, Pool, Gym, Central Loc   \n",
       "1   Cental Austin - airport, bus and scooters nearby   \n",
       "2                        Wyndham Austin 2BR sleeps 6   \n",
       "\n",
       "                                         description  \\\n",
       "0  Stay in a stylish SoCo apartment just 10 min f...   \n",
       "1  Quite cozy room with private shower and sink. ...   \n",
       "2  This spacious two-bedroom resort suite measure...   \n",
       "\n",
       "                               neighborhood_overview  \\\n",
       "0  The apartment is in South Congress, one of the...   \n",
       "1  Radio Coffee and Beer is down the street, its ...   \n",
       "2                                                NaN   \n",
       "\n",
       "                                         picture_url    host_id  ...  \\\n",
       "0  https://a0.muscache.com/pictures/hosting/Hosti...  423445570  ...   \n",
       "1  https://a0.muscache.com/pictures/147695fa-6003...    4710782  ...   \n",
       "2  https://a0.muscache.com/pictures/miso/Hosting-...  371942068  ...   \n",
       "\n",
       "  calculated_host_listings_count_entire_homes  \\\n",
       "0                                           8   \n",
       "1                                           0   \n",
       "2                                           4   \n",
       "\n",
       "  calculated_host_listings_count_private_rooms  \\\n",
       "0                                            0   \n",
       "1                                            1   \n",
       "2                                            0   \n",
       "\n",
       "  calculated_host_listings_count_shared_rooms reviews_per_month price_clean  \\\n",
       "0                                           0               2.0       130.0   \n",
       "1                                           0               NaN         NaN   \n",
       "2                                           0               NaN         NaN   \n",
       "\n",
       "  amenities_count is_superhost review_scores_avg beds_per_guest  \\\n",
       "0              81            1               5.0            0.5   \n",
       "1              25            0               NaN            NaN   \n",
       "2              32            1               NaN            NaN   \n",
       "\n",
       "  price_per_guest  \n",
       "0       21.666667  \n",
       "1             NaN  \n",
       "2             NaN  \n",
       "\n",
       "[3 rows x 85 columns]"
      ]
     },
     "execution_count": 2,
     "metadata": {},
     "output_type": "execute_result"
    }
   ],
   "source": [
    "df = pd.read_csv(PROC / \"listings_features.csv\")\n",
    "print(df.shape)\n",
    "df.head(3)"
   ]
  },
  {
   "cell_type": "code",
   "execution_count": 4,
   "id": "0e90579b-1fc0-462f-8a07-62326795d797",
   "metadata": {},
   "outputs": [],
   "source": [
    "neigh = pd.read_json(RAW / \"neighbourhoods.geojson\")"
   ]
  },
  {
   "cell_type": "code",
   "execution_count": 5,
   "id": "ad4271ba-6d5d-46c3-a42d-0d3fbb6f6d18",
   "metadata": {},
   "outputs": [
    {
     "data": {
      "text/html": [
       "<div>\n",
       "<style scoped>\n",
       "    .dataframe tbody tr th:only-of-type {\n",
       "        vertical-align: middle;\n",
       "    }\n",
       "\n",
       "    .dataframe tbody tr th {\n",
       "        vertical-align: top;\n",
       "    }\n",
       "\n",
       "    .dataframe thead th {\n",
       "        text-align: right;\n",
       "    }\n",
       "</style>\n",
       "<table border=\"1\" class=\"dataframe\">\n",
       "  <thead>\n",
       "    <tr style=\"text-align: right;\">\n",
       "      <th></th>\n",
       "      <th>type</th>\n",
       "      <th>features</th>\n",
       "    </tr>\n",
       "  </thead>\n",
       "  <tbody>\n",
       "    <tr>\n",
       "      <th>0</th>\n",
       "      <td>FeatureCollection</td>\n",
       "      <td>{'type': 'Feature', 'geometry': {'type': 'Mult...</td>\n",
       "    </tr>\n",
       "    <tr>\n",
       "      <th>1</th>\n",
       "      <td>FeatureCollection</td>\n",
       "      <td>{'type': 'Feature', 'geometry': {'type': 'Mult...</td>\n",
       "    </tr>\n",
       "    <tr>\n",
       "      <th>2</th>\n",
       "      <td>FeatureCollection</td>\n",
       "      <td>{'type': 'Feature', 'geometry': {'type': 'Mult...</td>\n",
       "    </tr>\n",
       "    <tr>\n",
       "      <th>3</th>\n",
       "      <td>FeatureCollection</td>\n",
       "      <td>{'type': 'Feature', 'geometry': {'type': 'Mult...</td>\n",
       "    </tr>\n",
       "    <tr>\n",
       "      <th>4</th>\n",
       "      <td>FeatureCollection</td>\n",
       "      <td>{'type': 'Feature', 'geometry': {'type': 'Mult...</td>\n",
       "    </tr>\n",
       "  </tbody>\n",
       "</table>\n",
       "</div>"
      ],
      "text/plain": [
       "                type                                           features\n",
       "0  FeatureCollection  {'type': 'Feature', 'geometry': {'type': 'Mult...\n",
       "1  FeatureCollection  {'type': 'Feature', 'geometry': {'type': 'Mult...\n",
       "2  FeatureCollection  {'type': 'Feature', 'geometry': {'type': 'Mult...\n",
       "3  FeatureCollection  {'type': 'Feature', 'geometry': {'type': 'Mult...\n",
       "4  FeatureCollection  {'type': 'Feature', 'geometry': {'type': 'Mult..."
      ]
     },
     "execution_count": 5,
     "metadata": {},
     "output_type": "execute_result"
    }
   ],
   "source": [
    "neigh.head()"
   ]
  },
  {
   "cell_type": "code",
   "execution_count": 6,
   "id": "eba1385c-1b31-4536-8b56-d0551ef42eb7",
   "metadata": {},
   "outputs": [
    {
     "data": {
      "image/png": "[encoded data removed]",
      "text/plain": [
       "<Figure size 1000x400 with 1 Axes>"
      ]
     },
     "metadata": {},
     "output_type": "display_data"
    }
   ],
   "source": [
    "# Neighborhood average nightly price using the listings column only\n",
    "import matplotlib.pyplot as plt\n",
    "\n",
    "if \"neighbourhood_cleansed\" in df.columns:\n",
    "    top10 = (\n",
    "        df.groupby(\"neighbourhood_cleansed\")[\"price_clean\"]\n",
    "          .mean()\n",
    "          .sort_values(ascending=False)\n",
    "          .head(10)\n",
    "    )\n",
    "    ax = top10.plot(kind=\"bar\", figsize=(10,4), title=\"Top 10 Most Expensive Neighborhoods (Avg Price)\")\n",
    "    ax.set_ylabel(\"Avg Nightly Price ($)\")\n",
    "    plt.tight_layout()\n",
    "    plt.savefig(FIGS / \"neighborhood_avg_price.png\")\n",
    "    plt.show()\n",
    "else:\n",
    "    print(\"Column 'neighbourhood_cleansed' not found in df.\")"
   ]
  },
  {
   "cell_type": "code",
   "execution_count": 7,
   "id": "4a2a6826-3204-4ec3-8390-2d95df812f0a",
   "metadata": {},
   "outputs": [
    {
     "ename": "IndentationError",
     "evalue": "unexpected indent (124760847.py, line 1)",
     "output_type": "error",
     "traceback": [
      "  \u001b[36mCell\u001b[39m\u001b[36m \u001b[39m\u001b[32mIn[7]\u001b[39m\u001b[32m, line 1\u001b[39m\n\u001b[31m    \u001b[39m\u001b[31mCalendar -> occupancy proxy (booked share)\u001b[39m\n    ^\n\u001b[31mIndentationError\u001b[39m\u001b[31m:\u001b[39m unexpected indent\n"
     ]
    }
   ],
   "source": [
    " Calendar -> occupancy proxy (booked share)\n",
    "cal = pd.read_csv(RAW / \"calendar.csv.gz\", nrows=500000)  # sample first ~500k rows\n",
    "print(cal.head())\n",
    "\n",
    "# 'available' is 't' (available) or 'f' (booked)\n",
    "occ = cal.groupby(\"listing_id\")[\"available\"].apply(lambda x: (x == \"f\").mean()).reset_index(name=\"occupancy_rate\")\n",
    "\n",
    "# join back to listings\n",
    "df = df.merge(occ, left_on=\"id\", right_on=\"listing_id\", how=\"left\")\n",
    "\n",
    "# quick plot\n",
    "ax = df[\"occupancy_rate\"].hist(bins=30, figsize=(8,4))\n",
    "ax.set_title(\"Distribution of Occupancy Rates (sampled)\")\n",
    "ax.set_xlabel(\"Occupancy rate (0 = never booked, 1 = always booked)\")\n",
    "ax.set_ylabel(\"Count\")\n",
    "plt.tight_layout()\n",
    "plt.savefig(FIGS / \"occupancy_distribution.png\")\n",
    "plt.show()\n",
    "\n",
    "# save the enriched file\n",
    "PROC.mkdir(parents=True, exist_ok=True)\n",
    "df.to_csv(PROC / \"listings_with_occupancy.csv\", index=False)\n",
    "print(\"Saved to:\", PROC / \"listings_with_occupancy.csv\")"
   ]
  },
  {
   "cell_type": "code",
   "execution_count": 8,
   "id": "38215c25-a209-499f-a091-96540da68164",
   "metadata": {},
   "outputs": [
    {
     "data": {
      "image/png": "[encoded data removed]",
      "text/plain": [
       "<Figure size 1000x400 with 1 Axes>"
      ]
     },
     "metadata": {},
     "output_type": "display_data"
    }
   ],
   "source": [
    "# Neighborhood average nightly price using the listings data only\n",
    "import matplotlib.pyplot as plt\n",
    "\n",
    "if \"neighbourhood_cleansed\" in df.columns:\n",
    "    top10 = (\n",
    "        df.groupby(\"neighbourhood_cleansed\")[\"price_clean\"]\n",
    "          .mean()\n",
    "          .sort_values(ascending=False)\n",
    "          .head(10)\n",
    "    )\n",
    "    ax = top10.plot(kind=\"bar\", figsize=(10,4),\n",
    "                    title=\"Top 10 Most Expensive Neighborhoods (Avg Price)\")\n",
    "    ax.set_ylabel(\"Avg Nightly Price ($)\")\n",
    "    plt.tight_layout()\n",
    "    plt.savefig(FIGS / \"neighborhood_avg_price.png\")\n",
    "    plt.show()\n",
    "else:\n",
    "    print(\"Column 'neighbourhood_cleansed' not found in df.\")"
   ]
  },
  {
   "cell_type": "code",
   "execution_count": null,
   "id": "ddcf9d9b-e8ed-4030-a10d-2481513e60d0",
   "metadata": {},
   "outputs": [],
   "source": []
  }
 ],
 "metadata": {
  "kernelspec": {
   "display_name": "Python 3 (ipykernel)",
   "language": "python",
   "name": "python3"
  },
  "language_info": {
   "codemirror_mode": {
    "name": "ipython",
    "version": 3
   },
   "file_extension": ".py",
   "mimetype": "text/x-python",
   "name": "python",
   "nbconvert_exporter": "python",
   "pygments_lexer": "ipython3",
   "version": "3.13.7"
  }
 },
 "nbformat": 4,
 "nbformat_minor": 5
}
